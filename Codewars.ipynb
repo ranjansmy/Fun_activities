{
  "nbformat": 4,
  "nbformat_minor": 0,
  "metadata": {
    "colab": {
      "provenance": [],
      "authorship_tag": "ABX9TyOdd5qiypOIe3GOfwa/rqIZ",
      "include_colab_link": true
    },
    "kernelspec": {
      "name": "python3",
      "display_name": "Python 3"
    },
    "language_info": {
      "name": "python"
    }
  },
  "cells": [
    {
      "cell_type": "markdown",
      "metadata": {
        "id": "view-in-github",
        "colab_type": "text"
      },
      "source": [
        "<a href=\"https://colab.research.google.com/github/ranjansmygit/HandyScriptsRepos/blob/main/Codewars.ipynb\" target=\"_parent\"><img src=\"https://colab.research.google.com/assets/colab-badge.svg\" alt=\"Open In Colab\"/></a>"
      ]
    },
    {
      "cell_type": "code",
      "execution_count": null,
      "metadata": {
        "id": "vbn0z8bqLSWJ"
      },
      "outputs": [],
      "source": [
        "'''def to_weird_case(words):\n",
        "    words = text.split()\n",
        "    result = []\n",
        "    for word in words :\n",
        "        new_word = \"\"\n",
        "        for i, char in enumerate(word):\n",
        "            new_word += char.upper() if i % 2 == 0 else char.lower()\n",
        "        result.append(new_word)\n",
        "\n",
        "    return \" \".join(result)\n",
        "    pass\n",
        "'''\n",
        "def to_weird_case(input_str):\n",
        "    words = input_str.split()  # Split the string into words\n",
        "    result = []\n",
        "\n",
        "    for word in words:\n",
        "        manipulated_word = ''\n",
        "        for i, char in enumerate(word):\n",
        "            if i % 2 == 0:\n",
        "                manipulated_word += char.upper()\n",
        "            else:\n",
        "                manipulated_word += char.lower()\n",
        "        result.append(manipulated_word)\n",
        "\n",
        "    return ' '.join(result)"
      ]
    },
    {
      "cell_type": "code",
      "source": [
        "if __name__ == '__main__':\n",
        "    s = input()\n",
        "    '''\n",
        "    print(any([i.isalnum() for i in s]))\n",
        "    print(any([i.isalpha() for i in s]))\n",
        "    print(any([i.isdigit() for i in s]))\n",
        "    print(any([i.islower() for i in s]))\n",
        "    print(any([i.isupper() for i in s]))'''\n",
        "    print(any(char.isalnum() for char in s))\n",
        "    print(any(char.isalpha() for char in s))\n",
        "    print(any(char.isdigit() for char in s))\n",
        "    print(any(char.islower() for char in s))\n",
        "    print(any(char.isupper() for char in s))"
      ],
      "metadata": {
        "colab": {
          "base_uri": "https://localhost:8080/"
        },
        "id": "XWyknTzWRqgs",
        "outputId": "46d6bfa2-0653-4762-f6fc-39f366fcc432"
      },
      "execution_count": null,
      "outputs": [
        {
          "output_type": "stream",
          "name": "stdout",
          "text": [
            "qA23\n",
            "True\n",
            "True\n",
            "True\n",
            "True\n",
            "True\n"
          ]
        }
      ]
    },
    {
      "cell_type": "code",
      "source": [
        "#!/bin/python3\n",
        "\n",
        "import math\n",
        "import os\n",
        "import random\n",
        "import re\n",
        "import sys\n",
        "\n",
        "#\n",
        "# Complete the 'miniMaxSum' function below.\n",
        "#\n",
        "# The function accepts INTEGER_ARRAY arr as parameter.\n",
        "#\n",
        "\n",
        "def miniMaxSum(arr):\n",
        "    # Write your code here\n",
        "    total_sum = sum(arr)\n",
        "    max_sum = total_sum - min(arr)\n",
        "    min_sum = total_sum - max(arr)\n",
        "\n",
        "    print(f'{min_sum} {max_sum}')\n",
        "\n",
        "if __name__ == '__main__':\n",
        "\n",
        "    arr = list(map(int, input().rstrip().split()))\n",
        "\n",
        "    miniMaxSum(arr)\n"
      ],
      "metadata": {
        "colab": {
          "base_uri": "https://localhost:8080/"
        },
        "id": "vrUHt4lMmBia",
        "outputId": "b7097a64-3180-4100-cd64-998e6115235b"
      },
      "execution_count": 3,
      "outputs": [
        {
          "output_type": "stream",
          "name": "stdout",
          "text": [
            "2 2 4 3 7\n",
            "11 16\n"
          ]
        }
      ]
    },
    {
      "cell_type": "code",
      "source": [
        "# Check for leap year\n",
        "import calendar\n",
        "\n",
        "def is_leapyear(year):\n",
        "  return calendar.isleap(year)\n",
        "\n",
        "year_check = int(input(\"Enter a year..\"))\n",
        "if is_leapyear(year_check):\n",
        "  print(f'{year_check} is leap year')\n",
        "else:\n",
        "  print(f'{year_check} a regualr year')"
      ],
      "metadata": {
        "colab": {
          "base_uri": "https://localhost:8080/"
        },
        "id": "Nz84V4XXpYJe",
        "outputId": "d84763fd-6255-43ce-b97f-c8d17553a35a"
      },
      "execution_count": 8,
      "outputs": [
        {
          "output_type": "stream",
          "name": "stdout",
          "text": [
            "Enter a year..2124\n",
            "2124 is leap year\n"
          ]
        }
      ]
    },
    {
      "cell_type": "code",
      "source": [],
      "metadata": {
        "id": "RJOog60wqBFn"
      },
      "execution_count": null,
      "outputs": []
    }
  ]
}