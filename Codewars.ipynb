{
  "nbformat": 4,
  "nbformat_minor": 0,
  "metadata": {
    "colab": {
      "provenance": [],
      "authorship_tag": "ABX9TyO+Rz7oKM6tjfzgIpjzsUCD",
      "include_colab_link": true
    },
    "kernelspec": {
      "name": "python3",
      "display_name": "Python 3"
    },
    "language_info": {
      "name": "python"
    }
  },
  "cells": [
    {
      "cell_type": "markdown",
      "metadata": {
        "id": "view-in-github",
        "colab_type": "text"
      },
      "source": [
        "<a href=\"https://colab.research.google.com/github/ranjansmygit/HandyScriptsRepos/blob/main/Codewars.ipynb\" target=\"_parent\"><img src=\"https://colab.research.google.com/assets/colab-badge.svg\" alt=\"Open In Colab\"/></a>"
      ]
    },
    {
      "cell_type": "code",
      "execution_count": null,
      "metadata": {
        "id": "vbn0z8bqLSWJ"
      },
      "outputs": [],
      "source": [
        "'''def to_weird_case(words):\n",
        "    words = text.split()\n",
        "    result = []\n",
        "    for word in words :\n",
        "        new_word = \"\"\n",
        "        for i, char in enumerate(word):\n",
        "            new_word += char.upper() if i % 2 == 0 else char.lower()\n",
        "        result.append(new_word)\n",
        "\n",
        "    return \" \".join(result)\n",
        "    pass\n",
        "'''\n",
        "def to_weird_case(input_str):\n",
        "    words = input_str.split()  # Split the string into words\n",
        "    result = []\n",
        "\n",
        "    for word in words:\n",
        "        manipulated_word = ''\n",
        "        for i, char in enumerate(word):\n",
        "            if i % 2 == 0:\n",
        "                manipulated_word += char.upper()\n",
        "            else:\n",
        "                manipulated_word += char.lower()\n",
        "        result.append(manipulated_word)\n",
        "\n",
        "    return ' '.join(result)"
      ]
    },
    {
      "cell_type": "code",
      "source": [
        "if __name__ == '__main__':\n",
        "    s = input()\n",
        "    '''\n",
        "    print(any([i.isalnum() for i in s]))\n",
        "    print(any([i.isalpha() for i in s]))\n",
        "    print(any([i.isdigit() for i in s]))\n",
        "    print(any([i.islower() for i in s]))\n",
        "    print(any([i.isupper() for i in s]))'''\n",
        "    print(any(char.isalnum() for char in s))\n",
        "    print(any(char.isalpha() for char in s))\n",
        "    print(any(char.isdigit() for char in s))\n",
        "    print(any(char.islower() for char in s))\n",
        "    print(any(char.isupper() for char in s))"
      ],
      "metadata": {
        "colab": {
          "base_uri": "https://localhost:8080/"
        },
        "id": "XWyknTzWRqgs",
        "outputId": "46d6bfa2-0653-4762-f6fc-39f366fcc432"
      },
      "execution_count": null,
      "outputs": [
        {
          "output_type": "stream",
          "name": "stdout",
          "text": [
            "qA23\n",
            "True\n",
            "True\n",
            "True\n",
            "True\n",
            "True\n"
          ]
        }
      ]
    },
    {
      "cell_type": "code",
      "source": [
        "#!/bin/python3\n",
        "\n",
        "import math\n",
        "import os\n",
        "import random\n",
        "import re\n",
        "import sys\n",
        "\n",
        "#\n",
        "# Complete the 'miniMaxSum' function below.\n",
        "#\n",
        "# The function accepts INTEGER_ARRAY arr as parameter.\n",
        "#\n",
        "\n",
        "def miniMaxSum(arr):\n",
        "    # Write your code here\n",
        "    total_sum = sum(arr)\n",
        "    max_sum = total_sum - min(arr)\n",
        "    min_sum = total_sum - max(arr)\n",
        "\n",
        "    print(f'{min_sum} {max_sum}')\n",
        "\n",
        "if __name__ == '__main__':\n",
        "\n",
        "    arr = list(map(int, input().rstrip().split()))\n",
        "\n",
        "    miniMaxSum(arr)\n"
      ],
      "metadata": {
        "colab": {
          "base_uri": "https://localhost:8080/"
        },
        "id": "vrUHt4lMmBia",
        "outputId": "b7097a64-3180-4100-cd64-998e6115235b"
      },
      "execution_count": null,
      "outputs": [
        {
          "output_type": "stream",
          "name": "stdout",
          "text": [
            "2 2 4 3 7\n",
            "11 16\n"
          ]
        }
      ]
    },
    {
      "cell_type": "code",
      "source": [
        "# Check for leap year\n",
        "import calendar\n",
        "\n",
        "def is_leapyear(year):\n",
        "  return calendar.isleap(year)\n",
        "\n",
        "year_check = int(input(\"Enter a year..\"))\n",
        "if is_leapyear(year_check):\n",
        "  print(f'{year_check} is leap year')\n",
        "else:\n",
        "  print(f'{year_check} a regualr year')"
      ],
      "metadata": {
        "colab": {
          "base_uri": "https://localhost:8080/"
        },
        "id": "Nz84V4XXpYJe",
        "outputId": "d84763fd-6255-43ce-b97f-c8d17553a35a"
      },
      "execution_count": null,
      "outputs": [
        {
          "output_type": "stream",
          "name": "stdout",
          "text": [
            "Enter a year..2124\n",
            "2124 is leap year\n"
          ]
        }
      ]
    },
    {
      "cell_type": "code",
      "source": [
        "# Find Median of an array\n",
        "\n",
        "def findMedian(arr):\n",
        "  sorted_arr = sorted(arr)\n",
        "  n = len(arr)\n",
        "\n",
        "  if n % 2 == 1:\n",
        "    median = sorted_arr[n // 2]\n",
        "  else:\n",
        "    mid1 = sorted_arr[(n - 1) // 2]\n",
        "    mid2 = sorted_arr[n // 2]\n",
        "    median = (mid1 + mid2) / 2\n",
        "\n",
        "  return median"
      ],
      "metadata": {
        "id": "RJOog60wqBFn"
      },
      "execution_count": null,
      "outputs": []
    },
    {
      "cell_type": "code",
      "source": [
        "# print a string of character for n\n",
        "if __name__ == '__main__':\n",
        "  n = int(input())\n",
        "  result = ''\n",
        "\n",
        "  for i in range(1, n+1):\n",
        "    result += str(i)\n",
        "  print(result)"
      ],
      "metadata": {
        "colab": {
          "base_uri": "https://localhost:8080/"
        },
        "id": "M9IHDu87Xh9j",
        "outputId": "835b20df-7c0e-4288-a77a-18f8c15a6c2c"
      },
      "execution_count": null,
      "outputs": [
        {
          "output_type": "stream",
          "name": "stdout",
          "text": [
            "6\n",
            "123456\n"
          ]
        }
      ]
    },
    {
      "cell_type": "code",
      "source": [
        "# Lonely Integer, in order to find the most unique element in an array of integers\n",
        "#!/bin/python3\n",
        "\n",
        "import math\n",
        "import os\n",
        "import random\n",
        "import re\n",
        "import sys\n",
        "\n",
        "#\n",
        "# Complete the 'lonelyinteger' function below.\n",
        "#\n",
        "# The function is expected to return an INTEGER.\n",
        "# The function accepts INTEGER_ARRAY a as parameter.\n",
        "#\n",
        "\n",
        "def lonelyinteger(a):\n",
        "    # Write your code here\n",
        "    sorted_Arr= sorted(a)\n",
        "\n",
        "    for element in sorted_Arr:\n",
        "        if sorted_Arr.count(element) == 1:\n",
        "            return(element)\n",
        "\n",
        "    print(f'most lonely elemnet is: {element}')\n",
        "\n",
        "if __name__ == '__main__':\n",
        "    fptr = open(os.environ['OUTPUT_PATH'], 'w')\n",
        "\n",
        "    n = int(input().strip())\n",
        "\n",
        "    a = list(map(int, input().rstrip().split()))\n",
        "\n",
        "    result = lonelyinteger(a)\n",
        "\n",
        "    fptr.write(str(result) + '\\n')\n",
        "\n",
        "    fptr.close()"
      ],
      "metadata": {
        "id": "Z-00oCIwFjHa"
      },
      "execution_count": null,
      "outputs": []
    },
    {
      "cell_type": "code",
      "source": [
        "#Print the 2nd column\n",
        "awk '{print $2}' filename.txt\n",
        "#Calculate the sum of values in 3rd column in a csv file.\n",
        "awk -F ',' '{sum += $3} END {print sum}' filename.csv\n",
        "#print lines containing the word \"error\" in a log file\n",
        "awk '/error/' logfiles.txt\n",
        "#print lines where the length of the 2nd column is greater than 10\n",
        "awk 'length($2) > 10' filename.txt"
      ],
      "metadata": {
        "id": "iIG1NzIPv8Bv"
      },
      "execution_count": null,
      "outputs": []
    },
    {
      "cell_type": "code",
      "source": [
        "'''# Reverese A string using Javascript\n",
        "function reverse(str){\n",
        "    let reversed = ''\n",
        "\n",
        "    for(let i = 0; i < str.length; i++){\n",
        "        reversed = str[i] + reversed\n",
        "    }\n",
        "    return reversed\n",
        "}\n",
        "console.log(reverse('Hello Coding!'))'''\n",
        "# Using Python\n",
        "def reverse_string(str):\n",
        "  return str[::-1]\n",
        "\n",
        "string_ = \"Hello Coding!\"\n",
        "print(reverse_string(string_))"
      ],
      "metadata": {
        "id": "LWyyqpnqw0RN",
        "colab": {
          "base_uri": "https://localhost:8080/"
        },
        "outputId": "7742ff3b-a64d-483b-db7e-9ad886ede270"
      },
      "execution_count": 3,
      "outputs": [
        {
          "output_type": "stream",
          "name": "stdout",
          "text": [
            "!gnidoC olleH\n"
          ]
        }
      ]
    }
  ]
}