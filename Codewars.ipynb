{
  "nbformat": 4,
  "nbformat_minor": 0,
  "metadata": {
    "colab": {
      "provenance": [],
      "authorship_tag": "ABX9TyMMuZOmGi1O1CBQVCr3uY/M",
      "include_colab_link": true
    },
    "kernelspec": {
      "name": "python3",
      "display_name": "Python 3"
    },
    "language_info": {
      "name": "python"
    }
  },
  "cells": [
    {
      "cell_type": "markdown",
      "metadata": {
        "id": "view-in-github",
        "colab_type": "text"
      },
      "source": [
        "<a href=\"https://colab.research.google.com/github/ranjansmygit/HandyScriptsRepos/blob/main/Codewars.ipynb\" target=\"_parent\"><img src=\"https://colab.research.google.com/assets/colab-badge.svg\" alt=\"Open In Colab\"/></a>"
      ]
    },
    {
      "cell_type": "code",
      "execution_count": 1,
      "metadata": {
        "id": "vbn0z8bqLSWJ"
      },
      "outputs": [],
      "source": [
        "'''def to_weird_case(words):\n",
        "    words = text.split()\n",
        "    result = []\n",
        "    for word in words :\n",
        "        new_word = \"\"\n",
        "        for i, char in enumerate(word):\n",
        "            new_word += char.upper() if i % 2 == 0 else char.lower()\n",
        "        result.append(new_word)\n",
        "\n",
        "    return \" \".join(result)\n",
        "    pass\n",
        "'''\n",
        "def to_weird_case(input_str):\n",
        "    words = input_str.split()  # Split the string into words\n",
        "    result = []\n",
        "\n",
        "    for word in words:\n",
        "        manipulated_word = ''\n",
        "        for i, char in enumerate(word):\n",
        "            if i % 2 == 0:\n",
        "                manipulated_word += char.upper()\n",
        "            else:\n",
        "                manipulated_word += char.lower()\n",
        "        result.append(manipulated_word)\n",
        "\n",
        "    return ' '.join(result)"
      ]
    },
    {
      "cell_type": "code",
      "source": [
        "if __name__ == '__main__':\n",
        "    s = input()\n",
        "    '''\n",
        "    print(any([i.isalnum() for i in s]))\n",
        "    print(any([i.isalpha() for i in s]))\n",
        "    print(any([i.isdigit() for i in s]))\n",
        "    print(any([i.islower() for i in s]))\n",
        "    print(any([i.isupper() for i in s]))'''\n",
        "    print(any(char.isalnum() for char in s))\n",
        "    print(any(char.isalpha() for char in s))\n",
        "    print(any(char.isdigit() for char in s))\n",
        "    print(any(char.islower() for char in s))\n",
        "    print(any(char.isupper() for char in s))"
      ],
      "metadata": {
        "colab": {
          "base_uri": "https://localhost:8080/"
        },
        "id": "XWyknTzWRqgs",
        "outputId": "46d6bfa2-0653-4762-f6fc-39f366fcc432"
      },
      "execution_count": 3,
      "outputs": [
        {
          "output_type": "stream",
          "name": "stdout",
          "text": [
            "qA23\n",
            "True\n",
            "True\n",
            "True\n",
            "True\n",
            "True\n"
          ]
        }
      ]
    }
  ]
}