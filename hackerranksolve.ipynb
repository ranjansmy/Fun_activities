{
  "nbformat": 4,
  "nbformat_minor": 0,
  "metadata": {
    "colab": {
      "provenance": [],
      "authorship_tag": "ABX9TyPnynYdfHgC3mmJkze/C3od",
      "include_colab_link": true
    },
    "kernelspec": {
      "name": "python3",
      "display_name": "Python 3"
    },
    "language_info": {
      "name": "python"
    }
  },
  "cells": [
    {
      "cell_type": "markdown",
      "metadata": {
        "id": "view-in-github",
        "colab_type": "text"
      },
      "source": [
        "<a href=\"https://colab.research.google.com/github/ranjansmygit/HandyScriptsRepos/blob/main/hackerranksolve.ipynb\" target=\"_parent\"><img src=\"https://colab.research.google.com/assets/colab-badge.svg\" alt=\"Open In Colab\"/></a>"
      ]
    },
    {
      "cell_type": "markdown",
      "source": [
        "Write a program that prints a staircase of size n.\n",
        "\n",
        "Function Description\n",
        "Complete the staircase function in the editor below.\n",
        "staircase has the following parameter(s):\n",
        "\n",
        "int n: an integer"
      ],
      "metadata": {
        "id": "howRVf_jeOtY"
      }
    },
    {
      "cell_type": "code",
      "source": [
        "#!/bin/python3\n",
        "\n",
        "import math\n",
        "import os\n",
        "import random\n",
        "import re\n",
        "import sys\n",
        "\n",
        "#\n",
        "# Complete the 'staircase' function below.\n",
        "#\n",
        "# The function accepts INTEGER n as parameter.\n",
        "#\n",
        "\n",
        "def staircase(n):\n",
        "    # Write your code here\n",
        "    for i in range(1, n+1):\n",
        "        spaces = ' ' * (n - i)\n",
        "        hashes= '#' * i\n",
        "        print(spaces + hashes)\n",
        "\n",
        "if __name__ == '__main__':\n",
        "    n = int(input().strip())\n",
        "\n",
        "    staircase(n)\n"
      ],
      "metadata": {
        "colab": {
          "base_uri": "https://localhost:8080/"
        },
        "id": "QsnNokgIej_G",
        "outputId": "08877e0b-cc34-4eb1-fe96-04ed102939c7"
      },
      "execution_count": 5,
      "outputs": [
        {
          "output_type": "stream",
          "name": "stdout",
          "text": [
            "4\n",
            "#\n",
            "##\n",
            "###\n",
            "####\n"
          ]
        }
      ]
    }
  ]
}