{
  "nbformat": 4,
  "nbformat_minor": 0,
  "metadata": {
    "colab": {
      "provenance": [],
      "authorship_tag": "ABX9TyMmbif74HTn8jRs3ALjk674",
      "include_colab_link": true
    },
    "kernelspec": {
      "name": "python3",
      "display_name": "Python 3"
    },
    "language_info": {
      "name": "python"
    }
  },
  "cells": [
    {
      "cell_type": "markdown",
      "metadata": {
        "id": "view-in-github",
        "colab_type": "text"
      },
      "source": [
        "<a href=\"https://colab.research.google.com/github/ranjansmygit/HandyScriptsRepos/blob/main/PyDSA.ipynb\" target=\"_parent\"><img src=\"https://colab.research.google.com/assets/colab-badge.svg\" alt=\"Open In Colab\"/></a>"
      ]
    },
    {
      "cell_type": "code",
      "execution_count": null,
      "metadata": {
        "id": "Q2XxqSjyYxvx"
      },
      "outputs": [],
      "source": [
        "import sys"
      ]
    },
    {
      "cell_type": "code",
      "source": [
        "import ctypes\n",
        "\n",
        "class mylist:\n",
        "  def __init__(self):\n",
        "    self.size = 1\n",
        "    self.n = 0\n",
        "    self.A = self.__make_array(self.size)\n",
        "\n",
        "  def __make_array(self, capacity):\n",
        "    return(capacity*ctypes.py_object)()"
      ],
      "metadata": {
        "id": "a3eQuU4kKISg"
      },
      "execution_count": null,
      "outputs": []
    },
    {
      "cell_type": "code",
      "source": [
        "le = mylist()\n",
        "print(le)"
      ],
      "metadata": {
        "id": "282GhkDRK3Bx",
        "outputId": "fbcfe1e8-6c97-4768-8623-fd0941c13b76",
        "colab": {
          "base_uri": "https://localhost:8080/"
        }
      },
      "execution_count": null,
      "outputs": [
        {
          "output_type": "stream",
          "name": "stdout",
          "text": [
            "<__main__.mylist object at 0x7e015a70de40>\n"
          ]
        }
      ]
    },
    {
      "cell_type": "code",
      "source": [
        "def __len__(self):\n",
        "  return self.n"
      ],
      "metadata": {
        "id": "QBTwfkY_t9Tw"
      },
      "execution_count": 1,
      "outputs": []
    },
    {
      "cell_type": "code",
      "source": [],
      "metadata": {
        "id": "8BsiHu37uDxh"
      },
      "execution_count": null,
      "outputs": []
    }
  ]
}